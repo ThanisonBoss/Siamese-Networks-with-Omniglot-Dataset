{
 "cells": [
  {
   "cell_type": "code",
   "execution_count": 186,
   "metadata": {},
   "outputs": [],
   "source": [
    "import os\n",
    "import numpy as np\n",
    "from keras.utils import load_img, img_to_array\n",
    "import matplotlib.pyplot as plt\n",
    "import random\n",
    "from keras.layers import Input, Dense, Flatten, Dropout, Conv2D, MaxPool2D, GlobalAveragePooling2D, Lambda\n",
    "from keras.optimizers import SGD, Adam, RMSprop\n",
    "from keras.models import Model\n",
    "import keras.backend as K"
   ]
  },
  {
   "cell_type": "code",
   "execution_count": 187,
   "metadata": {},
   "outputs": [],
   "source": [
    "#Directory\n",
    "train_dir = \"data/train\"\n",
    "test_dir = \"data/test\""
   ]
  },
  {
   "cell_type": "code",
   "execution_count": 188,
   "metadata": {},
   "outputs": [],
   "source": [
    "#Load image to number array\n",
    "def load_img_array(path):\n",
    "    X = []\n",
    "    y = []\n",
    "    class_names = []\n",
    "    label_count = 0\n",
    "    alphabets = os.listdir(path)\n",
    "    for alphabet in alphabets:\n",
    "        alphabet_path = os.path.join(path, alphabet)\n",
    "        characters = os.listdir(alphabet_path)\n",
    "        for character in characters:\n",
    "            character_path = os.path.join(path, alphabet, character)\n",
    "            images = os.listdir(character_path)\n",
    "            for image in images:\n",
    "                image_path = os.path.join(path, alphabet, character, image)\n",
    "                img = load_img(image_path, color_mode=\"grayscale\", target_size=(28,28))\n",
    "                img = img_to_array(img)/255.\n",
    "                X.append(img)\n",
    "                y.append(label_count)\n",
    "            class_names.append(alphabet+\"|\"+character)\n",
    "            label_count += 1\n",
    "    X = np.stack(X).astype('float32')\n",
    "    y = np.stack(y).astype('float32')\n",
    "    \n",
    "    return X, y, class_names\n",
    "\n",
    "train_imags, train_labels, train_classes = load_img_array(train_dir)\n",
    "test_imags, test_labels, test_classes = load_img_array(test_dir)"
   ]
  },
  {
   "cell_type": "code",
   "execution_count": 189,
   "metadata": {},
   "outputs": [
    {
     "name": "stdout",
     "output_type": "stream",
     "text": [
      "train shape: (22722, 28, 28, 1), (22722,)\n",
      "test shape: (9738, 28, 28, 1), (9738,)\n"
     ]
    }
   ],
   "source": [
    "print(f\"train shape: {train_imags.shape}, {train_labels.shape}\")\n",
    "print(f\"test shape: {test_imags.shape}, {test_labels.shape}\")"
   ]
  },
  {
   "cell_type": "code",
   "execution_count": 190,
   "metadata": {},
   "outputs": [],
   "source": [
    "# Create Pair\n",
    "def make_pairs(images, labels):\n",
    "    num_classes = int(max(labels))+1\n",
    "    label_indices = [np.where(labels==i)[0] for i in range(num_classes)]\n",
    "    pairs = []\n",
    "    pair_labels = []\n",
    "\n",
    "    for idx1 in range(len(images)):\n",
    "        # add a matching example\n",
    "        x1 = images[idx1]\n",
    "        label1 = labels[idx1]\n",
    "        idx2_lists = label_indices[int(label1)]\n",
    "        for idx2 in idx2_lists:\n",
    "            x2 = images[idx2]\n",
    "            pairs += [[x1, x2]]\n",
    "            pair_labels += [1]\n",
    "\n",
    "        # add a non-matching example\n",
    "        label2_list = np.random.choice(num_classes, size=len(idx2_lists), replace=False)\n",
    "        while [l for l in label2_list if l == label1]:\n",
    "            label2_list = np.random.choice(num_classes, size=len(idx2_lists), replace=False)\n",
    "        \n",
    "        for label2 in label2_list:\n",
    "            idx2 = np.random.choice(label_indices[label2], size=1)[0]\n",
    "            x2 = images[idx2]\n",
    "            pairs += [[x1, x2]]\n",
    "            pair_labels += [0]\n",
    "\n",
    "    X = np.array(pairs).astype(\"float32\")\n",
    "    y = np.array(pair_labels).astype(\"float32\")\n",
    "    return X, y\n",
    "\n",
    "X_train, y_train = make_pairs(train_imags, train_labels)\n",
    "X_test, y_test = make_pairs(test_imags, test_labels)"
   ]
  },
  {
   "cell_type": "code",
   "execution_count": 191,
   "metadata": {},
   "outputs": [
    {
     "name": "stdout",
     "output_type": "stream",
     "text": [
      "train pair shape: (636216, 2, 28, 28, 1), (636216,)\n",
      "test pair shape: (116856, 2, 28, 28, 1), (116856,)\n"
     ]
    }
   ],
   "source": [
    "print(f\"train pair shape: {X_train.shape}, {y_train.shape}\")\n",
    "print(f\"test pair shape: {X_test.shape}, {y_test.shape}\")"
   ]
  },
  {
   "cell_type": "code",
   "execution_count": 193,
   "metadata": {},
   "outputs": [
    {
     "name": "stdout",
     "output_type": "stream",
     "text": [
      "SAME\n"
     ]
    },
    {
     "data": {
      "image/png": "[encoded data removed]",
      "text/plain": [
       "<Figure size 500x500 with 2 Axes>"
      ]
     },
     "metadata": {},
     "output_type": "display_data"
    }
   ],
   "source": [
    "#Random plot image pair\n",
    "def plot_pair(images, labels):\n",
    "    idx_rand = random.randint(0, len(images)-1)\n",
    "    plt.figure(figsize=(5,5))\n",
    "    plt.subplot(1,2,1)\n",
    "    plt.imshow(images[idx_rand][0], cmap=\"gray\")\n",
    "    plt.title(\"character1\")\n",
    "\n",
    "    plt.subplot(1,2,2)\n",
    "    plt.imshow(images[idx_rand][1], cmap=\"gray\")\n",
    "    plt.title(\"character2\")\n",
    "\n",
    "    print([\"NOT SAME\", \"SAME\"][int(labels[idx_rand])])\n",
    "\n",
    "plot_pair(X_train, y_train)"
   ]
  },
  {
   "cell_type": "code",
   "execution_count": 267,
   "metadata": {},
   "outputs": [
    {
     "name": "stdout",
     "output_type": "stream",
     "text": [
      "Model: \"model_33\"\n",
      "_________________________________________________________________\n",
      " Layer (type)                Output Shape              Param #   \n",
      "=================================================================\n",
      " input_29 (InputLayer)       [(None, 28, 28, 1)]       0         \n",
      "                                                                 \n",
      " conv2d_12 (Conv2D)          (None, 24, 24, 4)         104       \n",
      "                                                                 \n",
      " max_pooling2d_12 (MaxPoolin  (None, 12, 12, 4)        0         \n",
      " g2D)                                                            \n",
      "                                                                 \n",
      " flatten_29 (Flatten)        (None, 576)               0         \n",
      "                                                                 \n",
      " dense_35 (Dense)            (None, 128)               73856     \n",
      "                                                                 \n",
      "=================================================================\n",
      "Total params: 73,960\n",
      "Trainable params: 73,960\n",
      "Non-trainable params: 0\n",
      "_________________________________________________________________\n"
     ]
    }
   ],
   "source": [
    "#Create embedding network\n",
    "def embedding_network():\n",
    "    input = Input(shape=(28, 28, 1))\n",
    "    x = Conv2D(4, 5, activation=\"relu\")(input)\n",
    "    x = MaxPool2D(2)(x)\n",
    "    x = Flatten()(x)\n",
    "    x = Dense(128, activation=\"relu\")(x)\n",
    "\n",
    "    return Model(inputs=input, outputs=x)\n",
    "\n",
    "embedding_layer = embedding_network()\n",
    "embedding_layer.summary()"
   ]
  },
  {
   "cell_type": "code",
   "execution_count": 268,
   "metadata": {},
   "outputs": [],
   "source": [
    "#Create euclidean_distance\n",
    "def euclidean_distance(vects):\n",
    "  '''\n",
    "  Calculate euclidean between two vectors\n",
    "  http://mathonline.wikidot.com/the-distance-between-two-vectors\n",
    "  '''\n",
    "  x, y = vects\n",
    "  sum_squares = K.sum(K.square(x-y), axis=1, keepdims=True)\n",
    "  # K.epsilon() = 1e-07 -> prevent number goes to small\n",
    "  return K.sqrt(K.maximum(sum_squares, K.epsilon()))"
   ]
  },
  {
   "cell_type": "code",
   "execution_count": 269,
   "metadata": {},
   "outputs": [
    {
     "name": "stdout",
     "output_type": "stream",
     "text": [
      "Model: \"model_34\"\n",
      "__________________________________________________________________________________________________\n",
      " Layer (type)                   Output Shape         Param #     Connected to                     \n",
      "==================================================================================================\n",
      " left_input (InputLayer)        [(None, 28, 28, 1)]  0           []                               \n",
      "                                                                                                  \n",
      " right_input (InputLayer)       [(None, 28, 28, 1)]  0           []                               \n",
      "                                                                                                  \n",
      " model_33 (Functional)          (None, 128)          73960       ['left_input[0][0]',             \n",
      "                                                                  'right_input[0][0]']            \n",
      "                                                                                                  \n",
      " output_layer (Lambda)          (None, 1)            0           ['model_33[0][0]',               \n",
      "                                                                  'model_33[1][0]']               \n",
      "                                                                                                  \n",
      "==================================================================================================\n",
      "Total params: 73,960\n",
      "Trainable params: 73,960\n",
      "Non-trainable params: 0\n",
      "__________________________________________________________________________________________________\n"
     ]
    }
   ],
   "source": [
    "#Create Siamese network\n",
    "input_left = Input(shape=(28, 28, 1), name='left_input')\n",
    "input_right = Input(shape=(28, 28, 1), name='right_input')\n",
    "\n",
    "encoded_left = embedding_layer(input_left)\n",
    "encoded_right = embedding_layer(input_right)\n",
    "\n",
    "lambda_layer = Lambda(function=euclidean_distance, name='output_layer')\n",
    "output = lambda_layer([encoded_left, encoded_right])\n",
    "\n",
    "\n",
    "model = Model(inputs=[input_left, input_right],outputs=output)\n",
    "model.summary()"
   ]
  },
  {
   "cell_type": "code",
   "execution_count": 270,
   "metadata": {},
   "outputs": [],
   "source": [
    "def contrastive_loss_with_margin(margin):\n",
    "  def contrastive_loss(y_true, y_pred):\n",
    "    '''\n",
    "    Dunno why the author of the course remove the 1/2 away ┐(￣ヘ￣)┌\n",
    "    Contrastive loss from Hadsell-et-al.'06\n",
    "        http://yann.lecun.com/exdb/publis/pdf/hadsell-chopra-lecun-06.pdf\n",
    "    '''\n",
    "    square_pred = K.square(y_pred)\n",
    "    margin_square = K.square(K.maximum(margin-y_pred, 0))\n",
    "    return ((1 - y_true) * margin_square + y_true * square_pred)\n",
    "  return contrastive_loss"
   ]
  },
  {
   "cell_type": "code",
   "execution_count": 271,
   "metadata": {},
   "outputs": [
    {
     "name": "stdout",
     "output_type": "stream",
     "text": [
      "Epoch 1/10\n",
      "4971/4971 [==============================] - 189s 38ms/step - loss: 0.1259 - val_loss: 0.1095\n",
      "Epoch 2/10\n",
      "4971/4971 [==============================] - 202s 41ms/step - loss: 0.1053 - val_loss: 0.1053\n",
      "Epoch 3/10\n",
      "4971/4971 [==============================] - 204s 41ms/step - loss: 0.1020 - val_loss: 0.1029\n",
      "Epoch 4/10\n",
      "4971/4971 [==============================] - 225s 45ms/step - loss: 0.1002 - val_loss: 0.1031\n",
      "Epoch 5/10\n",
      "4971/4971 [==============================] - 191s 38ms/step - loss: 0.0993 - val_loss: 0.1021\n",
      "Epoch 6/10\n",
      "4971/4971 [==============================] - 181s 36ms/step - loss: 0.0990 - val_loss: 0.1027\n",
      "Epoch 7/10\n",
      "4971/4971 [==============================] - 179s 36ms/step - loss: 0.0986 - val_loss: 0.1028\n",
      "Epoch 8/10\n",
      "4971/4971 [==============================] - 191s 38ms/step - loss: 0.0987 - val_loss: 0.1021\n",
      "Epoch 9/10\n",
      "4971/4971 [==============================] - 194s 39ms/step - loss: 0.0987 - val_loss: 0.1033\n",
      "Epoch 10/10\n",
      "4971/4971 [==============================] - 177s 36ms/step - loss: 0.0985 - val_loss: 0.1024\n"
     ]
    }
   ],
   "source": [
    "#Compile model\n",
    "model.compile(loss=contrastive_loss_with_margin(margin=1), \n",
    "              optimizer=Adam())\n",
    "\n",
    "#Fit model\n",
    "history = model.fit(x=[X_train[:, 0], X_train[:, 1]],\n",
    "                    y=y_train,\n",
    "                    epochs=10,\n",
    "                    batch_size=128,\n",
    "                    validation_data=([X_test[:,0], X_test[:,1]], y_test))"
   ]
  },
  {
   "cell_type": "code",
   "execution_count": 275,
   "metadata": {},
   "outputs": [],
   "source": [
    "def compute_accuracy(y_true, y_pred):\n",
    "  '''\n",
    "  Compute classification accuracy with a fixed threshold on distances\n",
    "  '''\n",
    "  pred = y_pred.ravel() < 0.5\n",
    "  return np.mean(pred==y_true)"
   ]
  },
  {
   "cell_type": "code",
   "execution_count": 276,
   "metadata": {},
   "outputs": [
    {
     "name": "stdout",
     "output_type": "stream",
     "text": [
      "19882/19882 [==============================] - 133s 7ms/step\n",
      "3652/3652 [==============================] - 22s 6ms/step\n",
      "Train Accuracy = 0.9056468243489633 Test Accuracy = 0.886638255630862\n"
     ]
    }
   ],
   "source": [
    "y_pred_train = model.predict([X_train[:,0], X_train[:,1]])\n",
    "train_accuracy = compute_accuracy(y_train, y_pred_train)\n",
    "\n",
    "y_pred_test = model.predict([X_test[:,0], X_test[:,1]])\n",
    "test_accuracy = compute_accuracy(y_test, y_pred_test)\n",
    "\n",
    "print(\"Train Accuracy = {} Test Accuracy = {}\".format(train_accuracy, test_accuracy))"
   ]
  },
  {
   "cell_type": "code",
   "execution_count": 287,
   "metadata": {},
   "outputs": [
    {
     "data": {
      "image/png": "[encoded data removed]",
      "text/plain": [
       "<Figure size 1700x300 with 1 Axes>"
      ]
     },
     "metadata": {},
     "output_type": "display_data"
    },
    {
     "data": {
      "image/png": "[encoded data removed]",
      "text/plain": [
       "<Figure size 1700x300 with 1 Axes>"
      ]
     },
     "metadata": {},
     "output_type": "display_data"
    }
   ],
   "source": [
    "# Matplotlib config\n",
    "def visualize_images():\n",
    "    plt.rc('image', cmap='gray_r')\n",
    "    plt.rc('grid', linewidth=0)\n",
    "    plt.rc('xtick', top=False, bottom=False, labelsize='large')\n",
    "    plt.rc('ytick', left=False, right=False, labelsize='large')\n",
    "    plt.rc('axes', facecolor='F8F8F8', titlesize=\"large\", edgecolor='white')\n",
    "    plt.rc('text', color='a8151a')\n",
    "    plt.rc('figure', facecolor='F0F0F0')# Matplotlib fonts\n",
    "\n",
    "\n",
    "# utility to display a row of digits with their predictions\n",
    "def display_images(left, right, predictions, labels, title, n):\n",
    "    plt.figure(figsize=(17,3))\n",
    "    plt.title(title)\n",
    "    plt.yticks([])\n",
    "    plt.xticks([])\n",
    "    plt.grid(None)\n",
    "    left = np.reshape(left, [n, 28, 28])\n",
    "    left = np.swapaxes(left, 0, 1)\n",
    "    left = np.reshape(left, [28, 28*n])\n",
    "    plt.imshow(left)\n",
    "    plt.figure(figsize=(17,3))\n",
    "    plt.yticks([])\n",
    "    plt.xticks([28*x+14 for x in range(n)], predictions)\n",
    "    for i,t in enumerate(plt.gca().xaxis.get_ticklabels()):\n",
    "        if predictions[i] > 0.5: t.set_color('red') # bad predictions in red\n",
    "    plt.grid(None)\n",
    "    right = np.reshape(right, [n, 28, 28])\n",
    "    right = np.swapaxes(right, 0, 1)\n",
    "    right = np.reshape(right, [28, 28*n])\n",
    "    plt.imshow(right)\n",
    "\n",
    "y_pred_train = np.squeeze(y_pred_train)\n",
    "indexes = np.random.choice(len(y_pred_train), size=10)\n",
    "display_images(X_train[:,0][indexes], X_train[:,1][indexes], y_pred_train[indexes], y_train[indexes], 'clothes and their dissimilarity', 10)"
   ]
  },
  {
   "cell_type": "code",
   "execution_count": 541,
   "metadata": {},
   "outputs": [
    {
     "name": "stdout",
     "output_type": "stream",
     "text": [
      "[0.23613718 0.87469256 0.71853554 0.41217637 1.2608285  1.0144627\n",
      " 1.1514615  0.87032735 0.7704814  0.9949479 ]\n"
     ]
    }
   ],
   "source": [
    "# Few shot learning\n",
    "def few_shot_task(support_datas, support_labels, test_images, test_labels, model, way=10, shot=4):\n",
    "    test_labels = int(test_labels)\n",
    "    num_classes = int(max(support_labels))+1\n",
    "    label_indices = [np.where(support_labels==i)[0] for i in range(num_classes)]\n",
    "    support_list = []\n",
    "    pairs = []\n",
    "\n",
    "    support_idxs = [test_labels]\n",
    "    support_rnd_idxs = list(np.random.choice(num_classes, size=way-1, replace=False))\n",
    "    while [i for i in support_rnd_idxs if i==test_labels]:\n",
    "        support_rnd_idxs = list(np.random.choice(num_classes, size=way-1, replace=False))\n",
    "    support_idxs += support_rnd_idxs\n",
    "\n",
    "    for support_idx in support_idxs:\n",
    "        idx_rand = list(np.random.choice(label_indices[support_idx], size=shot, replace=False))\n",
    "        support_list.append(idx_rand)\n",
    "\n",
    "    for idxs in support_list:\n",
    "        sub_pairs = []\n",
    "        for idx in idxs:\n",
    "            sub_pairs += [[test_images, support_datas[idx]]]\n",
    "        \n",
    "        pairs.append(sub_pairs)\n",
    "\n",
    "    pair_labels = np.zeros((way))\n",
    "    pair_labels[0] = 1\n",
    "    pairs = np.array(pairs).astype(\"float32\")\n",
    "\n",
    "    result = []\n",
    "    for pair in pairs:\n",
    "        result_sub = []\n",
    "        for sub_pair in pair:\n",
    "\n",
    "            x1 = np.expand_dims(sub_pair[0], axis=0)\n",
    "            x2 = np.expand_dims(sub_pair[1], axis=0)\n",
    "            predict = model.predict([x1, x2], verbose=0)[0][0]\n",
    "            result_sub.append(predict)\n",
    "\n",
    "        result.append(result_sub)\n",
    "\n",
    "    result_mean = np.mean(np.array(result), axis=1)\n",
    "\n",
    "    print(result_mean)\n",
    "\n",
    "    pass\n",
    "\n",
    "\n",
    "\n",
    "few_shot_task(support_datas=train_imags, support_labels=train_labels, test_images=test_imags[1000], test_labels=test_labels[1000], model=model)"
   ]
  }
 ],
 "metadata": {
  "kernelspec": {
   "display_name": "Python 3.9.7 ('.venv': venv)",
   "language": "python",
   "name": "python3"
  },
  "language_info": {
   "codemirror_mode": {
    "name": "ipython",
    "version": 3
   },
   "file_extension": ".py",
   "mimetype": "text/x-python",
   "name": "python",
   "nbconvert_exporter": "python",
   "pygments_lexer": "ipython3",
   "version": "3.9.7"
  },
  "orig_nbformat": 4,
  "vscode": {
   "interpreter": {
    "hash": "7d5e99840f6e049d2a6374086cc0e2a31a5d1592a60b52035e07b2e6b6987b50"
   }
  }
 },
 "nbformat": 4,
 "nbformat_minor": 2
}
