{
 "cells": [
  {
   "cell_type": "code",
   "execution_count": 47,
   "metadata": {},
   "outputs": [],
   "source": [
    "import os\n",
    "import numpy as np\n",
    "from keras.utils import load_img, img_to_array\n",
    "import matplotlib.pyplot as plt"
   ]
  },
  {
   "cell_type": "code",
   "execution_count": 42,
   "metadata": {},
   "outputs": [],
   "source": [
    "#Directory\n",
    "train_dir = \"data/train\"\n",
    "test_dir = \"data/test\""
   ]
  },
  {
   "cell_type": "code",
   "execution_count": 51,
   "metadata": {},
   "outputs": [],
   "source": [
    "#Load image to number array\n",
    "def load_img_array(path):\n",
    "    X = []\n",
    "    y = []\n",
    "    class_names = []\n",
    "    alphabets = os.listdir(path)\n",
    "    for alphabet in alphabets:\n",
    "        alphabet_path = os.path.join(path, alphabet)\n",
    "        characters = os.listdir(alphabet_path)\n",
    "        for character in characters:\n",
    "            character_path = os.path.join(path, alphabet, character)\n",
    "            images = os.listdir(character_path)\n",
    "            label_count = 0\n",
    "            for image in images:\n",
    "                image_path = os.path.join(path, alphabet, character, image)\n",
    "                img = load_img(image_path, color_mode=\"grayscale\", target_size=(28,28))\n",
    "                img = img_to_array(img)/255.\n",
    "                X.append(img)\n",
    "                y.append(label_count)\n",
    "            class_names.append(alphabet+\"|\"+character)\n",
    "            label_count += 1\n",
    "    X = np.stack(X).astype('float32')\n",
    "    y = np.stack(y).astype('float32')\n",
    "    \n",
    "    return X, y, class_names\n",
    "\n",
    "train_imags, train_labels, train_classes = load_img_array(train_dir)\n",
    "test_imags, test_labels, test_classes = load_img_array(test_dir)"
   ]
  },
  {
   "cell_type": "code",
   "execution_count": 52,
   "metadata": {},
   "outputs": [
    {
     "name": "stdout",
     "output_type": "stream",
     "text": [
      "train shape: (22722, 28, 28, 1), (22722,)\n",
      "test shape: (9738, 28, 28, 1), (9738,)\n"
     ]
    }
   ],
   "source": [
    "print(f\"train shape: {train_imags.shape}, {train_labels.shape}\")\n",
    "print(f\"test shape: {test_imags.shape}, {test_labels.shape}\")"
   ]
  }
 ],
 "metadata": {
  "kernelspec": {
   "display_name": "Python 3.9.7 ('.venv': venv)",
   "language": "python",
   "name": "python3"
  },
  "language_info": {
   "codemirror_mode": {
    "name": "ipython",
    "version": 3
   },
   "file_extension": ".py",
   "mimetype": "text/x-python",
   "name": "python",
   "nbconvert_exporter": "python",
   "pygments_lexer": "ipython3",
   "version": "3.9.7"
  },
  "orig_nbformat": 4,
  "vscode": {
   "interpreter": {
    "hash": "7d5e99840f6e049d2a6374086cc0e2a31a5d1592a60b52035e07b2e6b6987b50"
   }
  }
 },
 "nbformat": 4,
 "nbformat_minor": 2
}
